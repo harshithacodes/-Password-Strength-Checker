{
  "nbformat": 4,
  "nbformat_minor": 0,
  "metadata": {
    "colab": {
      "provenance": []
    },
    "kernelspec": {
      "name": "python3",
      "display_name": "Python 3"
    },
    "language_info": {
      "name": "python"
    }
  },
  "cells": [
    {
      "cell_type": "code",
      "execution_count": 1,
      "metadata": {
        "colab": {
          "base_uri": "https://localhost:8080/"
        },
        "id": "Z23crHt4b3eY",
        "outputId": "e007a338-f241-4f58-c607-5f29a1874540"
      },
      "outputs": [
        {
          "output_type": "stream",
          "name": "stdout",
          "text": [
            "Enter your password: har@21\n",
            "\n",
            "Password Strength: ⚠️ Moderate Password\n",
            "\n",
            "Suggestions to Improve:\n",
            "❌ Password should be at least 8 characters long.\n",
            "❌ Include at least one uppercase letter.\n",
            "\n"
          ]
        }
      ],
      "source": [
        "import re\n",
        "\n",
        "def check_password_strength(password):\n",
        "    score = 0\n",
        "    remarks = \"\"\n",
        "\n",
        "    # Length Check\n",
        "    if len(password) >= 8:\n",
        "        score += 1\n",
        "    else:\n",
        "        remarks += \"❌ Password should be at least 8 characters long.\\n\"\n",
        "\n",
        "    # Uppercase Letter Check\n",
        "    if re.search(r'[A-Z]', password):\n",
        "        score += 1\n",
        "    else:\n",
        "        remarks += \"❌ Include at least one uppercase letter.\\n\"\n",
        "\n",
        "    # Lowercase Letter Check\n",
        "    if re.search(r'[a-z]', password):\n",
        "        score += 1\n",
        "    else:\n",
        "        remarks += \"❌ Include at least one lowercase letter.\\n\"\n",
        "\n",
        "    # Digit Check\n",
        "    if re.search(r'\\d', password):\n",
        "        score += 1\n",
        "    else:\n",
        "        remarks += \"❌ Include at least one number.\\n\"\n",
        "\n",
        "    # Special Character Check\n",
        "    if re.search(r'[!@#$%^&*(),.?\":{}|<>]', password):\n",
        "        score += 1\n",
        "    else:\n",
        "        remarks += \"❌ Include at least one special character.\\n\"\n",
        "\n",
        "    # Strength Assessment\n",
        "    if score == 5:\n",
        "        strength = \"✅ Strong Password 💪\"\n",
        "    elif 3 <= score < 5:\n",
        "        strength = \"⚠️ Moderate Password\"\n",
        "    else:\n",
        "        strength = \"❌ Weak Password\"\n",
        "\n",
        "    return strength, remarks\n",
        "\n",
        "# Example Usage:\n",
        "password = input(\"Enter your password: \")\n",
        "strength, suggestions = check_password_strength(password)\n",
        "print(f\"\\nPassword Strength: {strength}\")\n",
        "if suggestions:\n",
        "    print(\"\\nSuggestions to Improve:\")\n",
        "    print(suggestions)\n"
      ]
    }
  ]
}